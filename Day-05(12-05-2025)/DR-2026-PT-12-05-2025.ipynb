{
 "cells": [
  {
   "cell_type": "markdown",
   "id": "cf9ccfd2-ee90-45f5-99bd-4c4ddbe80621",
   "metadata": {},
   "source": [
    "# Fundamental Problems on Arrays / Lists"
   ]
  },
  {
   "cell_type": "markdown",
   "id": "743eab8e-b82a-4e9e-8c7b-e1df812fe498",
   "metadata": {},
   "source": [
    "# Index-Based Loop\n",
    "- Loops on indices\n",
    "- To access element using index, we have to follow array_name[index]"
   ]
  },
  {
   "cell_type": "code",
   "execution_count": 3,
   "id": "21234d69-037c-4fae-bc0a-77905d4bddf0",
   "metadata": {},
   "outputs": [
    {
     "name": "stdout",
     "output_type": "stream",
     "text": [
      "3\n",
      "apple\n",
      "banana\n",
      "kiwi\n"
     ]
    }
   ],
   "source": [
    "names = ['apple', 'banana', 'kiwi']\n",
    "# indices  0         1         2\n",
    "print(len(names))\n",
    "for i in range(3):\n",
    "    print(names[i])"
   ]
  },
  {
   "cell_type": "markdown",
   "id": "8a45e771-24f5-4282-a6db-3b2c45b11157",
   "metadata": {},
   "source": [
    "# Value-Based Loop\n",
    "- We try to loop directly on values, ignoring indices"
   ]
  },
  {
   "cell_type": "code",
   "execution_count": 4,
   "id": "357d1aba-96f8-407c-bcca-5e06886e012e",
   "metadata": {},
   "outputs": [
    {
     "name": "stdout",
     "output_type": "stream",
     "text": [
      "3\n",
      "apple\n",
      "banana\n",
      "kiwi\n"
     ]
    }
   ],
   "source": [
    "names = ['apple', 'banana', 'kiwi']\n",
    "print(len(names))\n",
    "for each_name in names:\n",
    "    print(each_name)"
   ]
  },
  {
   "cell_type": "markdown",
   "id": "37483336-8b08-408f-8a44-7b4807c1483b",
   "metadata": {},
   "source": [
    "# Problem on Arrays (Basic)\n",
    "- Find the sum of the elements of array\n",
    "- Find the maximum value and minimum value of an array\n",
    "- Find out the even number count and odd number count in the array"
   ]
  },
  {
   "cell_type": "markdown",
   "id": "20a39ef8-3e71-4421-84df-3dd2e6f9fe1b",
   "metadata": {},
   "source": [
    "### Standard Way of giving array as input\n",
    "- First line of input contains an integer **N**, denoting the length of the array\n",
    "- Second line contains **N** space separated integers\n",
    "- Ex: 1\n",
    "- 10\n",
    "- 100 200 300 400 500 600 700 800 900 10000\n",
    "- Ex: 2\n",
    "- 5\n",
    "- 10 20 30 40 50"
   ]
  },
  {
   "cell_type": "markdown",
   "id": "7efe2df8-57fa-41a1-a5ce-c18d2915d851",
   "metadata": {},
   "source": [
    "### Way 1 of reading a list of elements as input"
   ]
  },
  {
   "cell_type": "code",
   "execution_count": 6,
   "id": "25100532-a310-45ed-b29f-21d566dd5040",
   "metadata": {},
   "outputs": [
    {
     "name": "stdin",
     "output_type": "stream",
     "text": [
      " 5\n",
      " 10 20 30 40 50\n"
     ]
    },
    {
     "name": "stdout",
     "output_type": "stream",
     "text": [
      "[10, 20, 30, 40, 50]\n"
     ]
    }
   ],
   "source": [
    "n = int(input())\n",
    "lst = list(map(int, input().split()))\n",
    "print(lst)"
   ]
  },
  {
   "cell_type": "code",
   "execution_count": 7,
   "id": "27cce2ad-3344-4851-ad36-17a978f47466",
   "metadata": {},
   "outputs": [
    {
     "name": "stdin",
     "output_type": "stream",
     "text": [
      " 5\n",
      " 10 20 30 40 50\n"
     ]
    },
    {
     "name": "stdout",
     "output_type": "stream",
     "text": [
      "[10, 20, 30, 40, 50]\n"
     ]
    }
   ],
   "source": [
    "n = int(input())\n",
    "lst = [int(x) for x in input().split()]\n",
    "print(lst)"
   ]
  },
  {
   "cell_type": "code",
   "execution_count": null,
   "id": "10df8249-a2e5-466e-9b9c-11f80d2931e8",
   "metadata": {},
   "outputs": [],
   "source": [
    "\"10 20 30 40 50\" -> [\"10\", \"20\", \"30\", \"40\", \"50\"] -> [10, 20, 30, 40, 50]"
   ]
  },
  {
   "cell_type": "markdown",
   "id": "fb9a6ee4-3d1e-4e37-ae9b-796ca4284297",
   "metadata": {},
   "source": [
    "## Fiding the sum of elements of array"
   ]
  },
  {
   "cell_type": "code",
   "execution_count": 10,
   "id": "d9beba57-1ead-4a42-b327-51de473ecae8",
   "metadata": {},
   "outputs": [
    {
     "name": "stdin",
     "output_type": "stream",
     "text": [
      " 2\n",
      " 10 -10\n"
     ]
    },
    {
     "name": "stdout",
     "output_type": "stream",
     "text": [
      "0\n"
     ]
    }
   ],
   "source": [
    "# Using index-based looping\n",
    "n = int(input())\n",
    "lst = list(map(int, input().split()))\n",
    "sum_of_elements = 0\n",
    "for i in range(n):\n",
    "    sum_of_elements = sum_of_elements + lst[i] # list_name[index]\n",
    "    # sum_of_elements += lst[i]\n",
    "print(sum_of_elements)"
   ]
  },
  {
   "cell_type": "code",
   "execution_count": 12,
   "id": "a04fa36a-a3cd-4942-b018-191405eef744",
   "metadata": {},
   "outputs": [
    {
     "name": "stdin",
     "output_type": "stream",
     "text": [
      " 2\n",
      " 10 -190\n"
     ]
    },
    {
     "name": "stdout",
     "output_type": "stream",
     "text": [
      "-180\n"
     ]
    }
   ],
   "source": [
    "# Using value-based looping\n",
    "n = int(input())\n",
    "lst = list(map(int, input().split()))\n",
    "sum_of_elements = 0\n",
    "for val in lst:\n",
    "    sum_of_elements = sum_of_elements + val\n",
    "    # sum_of_elements += lst[i]\n",
    "print(sum_of_elements)"
   ]
  },
  {
   "cell_type": "markdown",
   "id": "70867dcb-a023-4d6a-8d9c-cc86002e33e4",
   "metadata": {},
   "source": [
    "### Using Functions to write the code for adding array elements"
   ]
  },
  {
   "cell_type": "code",
   "execution_count": 14,
   "id": "30733432-56b1-4c2a-bd0b-8fe274cbed7e",
   "metadata": {},
   "outputs": [
    {
     "name": "stdout",
     "output_type": "stream",
     "text": [
      "60\n",
      "0\n",
      "600\n"
     ]
    }
   ],
   "source": [
    "# Function takes an array, and it's size\n",
    "def get_array_sum(lst, n):\n",
    "    sum_of_elements = 0\n",
    "    for i in range(n):\n",
    "        sum_of_elements = sum_of_elements + lst[i] # list_name[index]\n",
    "    return sum_of_elements\n",
    "\n",
    "x = [10, 20, 30]\n",
    "y = [10, -10]\n",
    "z = [100, 200, 300]\n",
    "print(get_array_sum(x, len(x)))\n",
    "print(get_array_sum(y, len(y)))\n",
    "print(get_array_sum(z, len(z)))"
   ]
  },
  {
   "cell_type": "markdown",
   "id": "5886934b-406f-4daf-8496-2503e56710dd",
   "metadata": {},
   "source": [
    "## Write a program to count the even and odd numbers present in an array separately\n",
    "- x = [10, 20, 31, 42, 61]\n",
    "- Evens: 3\n",
    "- Odds: 2"
   ]
  },
  {
   "cell_type": "code",
   "execution_count": 18,
   "id": "fc66105a-32c9-40b1-bc08-f08a91c0c85c",
   "metadata": {},
   "outputs": [
    {
     "name": "stdin",
     "output_type": "stream",
     "text": [
      " 5\n",
      " 1 2 3 4 5\n"
     ]
    },
    {
     "name": "stdout",
     "output_type": "stream",
     "text": [
      "Even Count: 2\n",
      "Odd Count: 3\n",
      "Even Count: 2\n",
      "Odd Count: 3\n"
     ]
    }
   ],
   "source": [
    "# Using Index-Based Loop\n",
    "def print_even_odd_count1(lst, n):\n",
    "    even_count = odd_count = 0\n",
    "    for i in range(n):\n",
    "        if lst[i] % 2 == 0:\n",
    "            even_count += 1\n",
    "        else:\n",
    "            odd_count += 1\n",
    "    print(f'Even Count: {even_count}')\n",
    "    print(f'Odd Count: {odd_count}')\n",
    "\n",
    "# Using Value-Based Loop\n",
    "def print_even_odd_count2(lst):\n",
    "    even_count = odd_count = 0\n",
    "    for num in lst:\n",
    "        if num % 2 == 0:\n",
    "            even_count += 1\n",
    "        else:\n",
    "            odd_count += 1\n",
    "    print(f'Even Count: {even_count}')\n",
    "    print(f'Odd Count: {odd_count}')\n",
    "\n",
    "n = int(input())\n",
    "lst = list(map(int, input().split()))\n",
    "print_even_odd_count1(lst, n)\n",
    "print_even_odd_count2(lst)"
   ]
  },
  {
   "cell_type": "markdown",
   "id": "fb9c2d11-e5f7-4ee9-ae08-141ba2a32776",
   "metadata": {},
   "source": [
    "# Index-Based Loop Vs. Value-Based Loop\n",
    "1. Index-Based Loops\n",
    "   - When you need to work not only with values, but also with indices\n",
    "   - When there are index-jumps\n",
    "   - When there is a need of changing array element values\n",
    "   - When you want to access array elements in reverse order\n",
    "2. Value-Based Loops\n",
    "   - When you directly want to work with values and there is no necessity of indices at all\n",
    "   - For better readability, wherever possible"
   ]
  },
  {
   "cell_type": "markdown",
   "id": "c55fd610-7df7-440d-aa8b-40d2360227cc",
   "metadata": {},
   "source": [
    "### Fiding even numbers present at even-index in an array"
   ]
  },
  {
   "cell_type": "code",
   "execution_count": 22,
   "id": "6ab78309-9bc2-4ec2-a912-ebfcf51eefbb",
   "metadata": {},
   "outputs": [
    {
     "name": "stdin",
     "output_type": "stream",
     "text": [
      " 9\n",
      " 12 17 19 22 46 8 31 94 6\n"
     ]
    },
    {
     "name": "stdout",
     "output_type": "stream",
     "text": [
      "0 12\n",
      "4 46\n",
      "8 6\n"
     ]
    }
   ],
   "source": [
    "# Using Index-Based loop\n",
    "def print_even_at_even(lst, n):\n",
    "    for i in range(n):\n",
    "        if i % 2 == 0 and lst[i] % 2 == 0:\n",
    "            print(i, lst[i])\n",
    "n = int(input())\n",
    "lst = list(map(int, input().split()))\n",
    "print_even_at_even(lst, n)"
   ]
  },
  {
   "cell_type": "code",
   "execution_count": null,
   "id": "50e50ea7-0e90-4b35-b503-d6ca839fde23",
   "metadata": {},
   "outputs": [],
   "source": [
    "9\n",
    "12 17 19 22 46 8 31 94 6"
   ]
  },
  {
   "cell_type": "code",
   "execution_count": 23,
   "id": "3016133e-5e8e-49e4-a7ce-d9b5cdd1d5d2",
   "metadata": {},
   "outputs": [
    {
     "name": "stdin",
     "output_type": "stream",
     "text": [
      " 9\n",
      " 12 17 19 22 46 8 31 94 6\n"
     ]
    },
    {
     "name": "stdout",
     "output_type": "stream",
     "text": [
      "0 12\n",
      "4 46\n",
      "8 6\n"
     ]
    }
   ],
   "source": [
    "# Using Index-Based loop (Index Jumps)\n",
    "def print_even_at_even(lst, n):\n",
    "    for i in range(0, n, 2):\n",
    "        if lst[i] % 2 == 0:\n",
    "            print(i, lst[i])\n",
    "n = int(input())\n",
    "lst = list(map(int, input().split()))\n",
    "print_even_at_even(lst, n)"
   ]
  },
  {
   "cell_type": "code",
   "execution_count": 24,
   "id": "a9e593e8-aa0a-4860-afa1-deb954883199",
   "metadata": {},
   "outputs": [
    {
     "name": "stdout",
     "output_type": "stream",
     "text": [
      "[10, 20, 30, 40]\n"
     ]
    }
   ],
   "source": [
    "# Changing the value of array elements using value-based loop is not possible\n",
    "x = [10, 20, 30, 40]\n",
    "# For each element in arrya you want to add 1 and update\n",
    "# value based loop\n",
    "for num in x:\n",
    "    num += 1\n",
    "print(x)"
   ]
  },
  {
   "cell_type": "code",
   "execution_count": 27,
   "id": "e6bec7e6-fcc6-4e15-98e8-e62cbc9ce5e6",
   "metadata": {},
   "outputs": [
    {
     "name": "stdout",
     "output_type": "stream",
     "text": [
      "[11, 21, 31, 41]\n"
     ]
    }
   ],
   "source": [
    "# Use an index based loop, if you want to change the values\n",
    "x = [10, 20, 30, 40]\n",
    "# For each element in arrya you want to add 1 and update\n",
    "# value based loop\n",
    "for i in range(len(x)):\n",
    "    x[i] += 1\n",
    "print(x)"
   ]
  },
  {
   "cell_type": "code",
   "execution_count": 31,
   "id": "67465868-fec2-42ab-9570-79df4acb9b7b",
   "metadata": {},
   "outputs": [
    {
     "name": "stdout",
     "output_type": "stream",
     "text": [
      "2500 1600 900 400 100 "
     ]
    }
   ],
   "source": [
    "# Value based loops always go in forward direction\n",
    "# To access elements from backwards, you need to use index-based loop\n",
    "lst = [10, 20, 30, 40, 50]\n",
    "# ind  0    1   2  3  4\n",
    "# start -> len(lst) - 1, last index\n",
    "# stop -> 0 (Since end bound is excluded, we gave -1)\n",
    "# step -> -1 (Because, we are generating number in reverse order)\n",
    "for i in range(len(lst) - 1, -1, -1):\n",
    "    print(lst[i] * lst[i], end = ' ')"
   ]
  },
  {
   "cell_type": "markdown",
   "id": "e0ab8ea5-271c-48de-9ce5-6f608de0d0c3",
   "metadata": {},
   "source": [
    "## Finding min and max elements in an array"
   ]
  },
  {
   "cell_type": "code",
   "execution_count": null,
   "id": "6ab8c015-b4d3-48ee-a004-73396012cc83",
   "metadata": {},
   "outputs": [],
   "source": [
    "def get_min(array, n):\n",
    "    min_element = array[0]\n",
    "    for i in range(1, n):\n",
    "        if array[i] < min_element:\n",
    "            min_element = array[i]\n",
    "    return min_element\n",
    "\n",
    "def get_min(array, n):\n",
    "    min_element = array[0]\n",
    "    for i in range(1, n):\n",
    "        if array[i] < min_element:\n",
    "            min_element = array[i]\n",
    "    return min_element"
   ]
  }
 ],
 "metadata": {
  "kernelspec": {
   "display_name": "Python 3 (ipykernel)",
   "language": "python",
   "name": "python3"
  },
  "language_info": {
   "codemirror_mode": {
    "name": "ipython",
    "version": 3
   },
   "file_extension": ".py",
   "mimetype": "text/x-python",
   "name": "python",
   "nbconvert_exporter": "python",
   "pygments_lexer": "ipython3",
   "version": "3.12.4"
  }
 },
 "nbformat": 4,
 "nbformat_minor": 5
}

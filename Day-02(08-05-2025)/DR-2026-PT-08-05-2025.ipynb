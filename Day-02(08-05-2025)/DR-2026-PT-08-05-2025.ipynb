{
 "cells": [
  {
   "cell_type": "markdown",
   "id": "efca7c26-0d46-4d95-9630-08488632f349",
   "metadata": {},
   "source": [
    "# Primes\n",
    "- A prime number is a number that is divisible only by 1 and itself\n",
    "- 2, 3, 5, 7, 11, ....\n",
    "- 2 (1, 2)\n",
    "- 3 (1, 3)\n",
    "- 11 (1, 11)\n",
    "- A prime number NEVER contains more than 2 factors (divisors)\n",
    "- To find a number is prime or not, simple count the factors and verify if the count is equal to 2"
   ]
  },
  {
   "cell_type": "markdown",
   "id": "24193d24-d091-49ab-81d6-ee695e80b105",
   "metadata": {},
   "source": [
    "# Way 1 - Using a function to count and return the factor count"
   ]
  },
  {
   "cell_type": "code",
   "execution_count": 7,
   "id": "a0e179f3-8bb6-44f0-a2df-3d735b2ca421",
   "metadata": {},
   "outputs": [
    {
     "name": "stdin",
     "output_type": "stream",
     "text": [
      " 12\n"
     ]
    },
    {
     "name": "stdout",
     "output_type": "stream",
     "text": [
      "12 is not a Prime Number\n"
     ]
    }
   ],
   "source": [
    "def get_factor_count(n):\n",
    "    fc = 0 # to hold the factor count\n",
    "    for i in range(1, n + 1):\n",
    "        if n % i == 0:\n",
    "            fc += 1 # incremeting factor count upon finding a factor\n",
    "    return fc\n",
    "\n",
    "# Calling a function with return type\n",
    "# print(get_factor_count(10))\n",
    "# print(get_factor_count(1000))\n",
    "# print(get_factor_count(2))\n",
    "# print(get_factor_count(11))\n",
    "value = int(input())\n",
    "if get_factor_count(value) == 2:\n",
    "    print(f'{value} is a Prime Number')\n",
    "else:\n",
    "    print(f'{value} is not a Prime Number')"
   ]
  },
  {
   "cell_type": "markdown",
   "id": "c2c709ae-ebba-45ff-9130-e50190a4c50a",
   "metadata": {},
   "source": [
    "# Way 2 - Using a function that itself returns 1, if given number is Prime else returns 0"
   ]
  },
  {
   "cell_type": "code",
   "execution_count": 11,
   "id": "3bd2d9f6-c30a-457a-9f10-e3a0170cad52",
   "metadata": {},
   "outputs": [
    {
     "name": "stdin",
     "output_type": "stream",
     "text": [
      "Enter a number:  17\n"
     ]
    },
    {
     "name": "stdout",
     "output_type": "stream",
     "text": [
      "17 is Prime\n"
     ]
    }
   ],
   "source": [
    "def is_prime(n):\n",
    "    fc = 0 # to hold the factor count\n",
    "    for i in range(1, n + 1):\n",
    "        if n % i == 0:\n",
    "            fc += 1 # incremeting factor count upon finding a factor\n",
    "    if fc == 2:\n",
    "        return True\n",
    "    else:\n",
    "        return False\n",
    "\n",
    "n = int(input('Enter a number: '))\n",
    "print(f'{n} is Prime' if is_prime(n) else f'{n} is not a Prime')"
   ]
  },
  {
   "cell_type": "code",
   "execution_count": 12,
   "id": "9ea4d2f8-bb02-41e3-9297-693917045f09",
   "metadata": {},
   "outputs": [
    {
     "name": "stdout",
     "output_type": "stream",
     "text": [
      "1 2 3 4 5 6 7 8 9 10 11 12 13 14 15 16 17 18 19 20 21 22 23 24 25 26 27 28 29 30 31 32 33 34 35 36 37 38 39 40 41 42 43 44 45 46 47 48 49 50 51 52 53 54 55 56 57 58 59 60 61 62 63 64 65 66 67 68 69 70 71 72 73 74 75 76 77 78 79 80 81 82 83 84 85 86 87 88 89 90 91 92 93 94 95 96 97 98 99 "
     ]
    }
   ],
   "source": [
    "for i in range(1, 100):\n",
    "    print(i, end = ' ')"
   ]
  },
  {
   "cell_type": "code",
   "execution_count": 14,
   "id": "b0b8ff0a-6f6e-4ef2-96aa-f2dab33077cb",
   "metadata": {},
   "outputs": [
    {
     "name": "stdout",
     "output_type": "stream",
     "text": [
      "1 1.0\n",
      "2 1.4142135623730951\n",
      "3 1.7320508075688772\n",
      "4 2.0\n",
      "5 2.23606797749979\n",
      "6 2.449489742783178\n",
      "7 2.6457513110645907\n",
      "8 2.8284271247461903\n",
      "9 3.0\n",
      "10 3.1622776601683795\n",
      "11 3.3166247903554\n",
      "12 3.4641016151377544\n",
      "13 3.605551275463989\n",
      "14 3.7416573867739413\n",
      "15 3.872983346207417\n",
      "16 4.0\n",
      "17 4.123105625617661\n",
      "18 4.242640687119285\n",
      "19 4.358898943540674\n",
      "20 4.47213595499958\n",
      "21 4.58257569495584\n",
      "22 4.69041575982343\n",
      "23 4.795831523312719\n",
      "24 4.898979485566356\n",
      "25 5.0\n",
      "26 5.0990195135927845\n",
      "27 5.196152422706632\n",
      "28 5.291502622129181\n",
      "29 5.385164807134504\n",
      "30 5.477225575051661\n",
      "31 5.5677643628300215\n",
      "32 5.656854249492381\n",
      "33 5.744562646538029\n",
      "34 5.830951894845301\n",
      "35 5.916079783099616\n",
      "36 6.0\n",
      "37 6.082762530298219\n",
      "38 6.164414002968976\n",
      "39 6.244997998398398\n",
      "40 6.324555320336759\n",
      "41 6.4031242374328485\n",
      "42 6.48074069840786\n",
      "43 6.557438524302\n",
      "44 6.6332495807108\n",
      "45 6.708203932499369\n",
      "46 6.782329983125268\n",
      "47 6.855654600401044\n",
      "48 6.928203230275509\n",
      "49 7.0\n",
      "50 7.0710678118654755\n",
      "51 7.14142842854285\n",
      "52 7.211102550927978\n",
      "53 7.280109889280518\n",
      "54 7.3484692283495345\n",
      "55 7.416198487095663\n",
      "56 7.483314773547883\n",
      "57 7.54983443527075\n",
      "58 7.615773105863909\n",
      "59 7.681145747868608\n",
      "60 7.745966692414834\n",
      "61 7.810249675906654\n",
      "62 7.874007874011811\n",
      "63 7.937253933193772\n",
      "64 8.0\n",
      "65 8.06225774829855\n",
      "66 8.12403840463596\n",
      "67 8.18535277187245\n",
      "68 8.246211251235321\n",
      "69 8.306623862918075\n",
      "70 8.366600265340756\n",
      "71 8.426149773176359\n",
      "72 8.48528137423857\n",
      "73 8.54400374531753\n",
      "74 8.602325267042627\n",
      "75 8.660254037844387\n",
      "76 8.717797887081348\n",
      "77 8.774964387392123\n",
      "78 8.831760866327848\n",
      "79 8.888194417315589\n",
      "80 8.94427190999916\n",
      "81 9.0\n",
      "82 9.055385138137417\n",
      "83 9.1104335791443\n",
      "84 9.16515138991168\n",
      "85 9.219544457292887\n",
      "86 9.273618495495704\n",
      "87 9.327379053088816\n",
      "88 9.38083151964686\n",
      "89 9.433981132056603\n",
      "90 9.486832980505138\n",
      "91 9.539392014169456\n",
      "92 9.591663046625438\n",
      "93 9.643650760992955\n",
      "94 9.695359714832659\n",
      "95 9.746794344808963\n",
      "96 9.797958971132712\n",
      "97 9.848857801796104\n",
      "98 9.899494936611665\n",
      "99 9.9498743710662\n"
     ]
    }
   ],
   "source": [
    "import math\n",
    "for i in range(1, 100):\n",
    "    print(i, math.sqrt(i))"
   ]
  },
  {
   "cell_type": "code",
   "execution_count": 16,
   "id": "811a08d1-27be-44d6-9534-13e775d39385",
   "metadata": {},
   "outputs": [
    {
     "name": "stdout",
     "output_type": "stream",
     "text": [
      "1 False\n",
      "2 True\n",
      "3 True\n",
      "4 False\n",
      "5 True\n",
      "6 False\n",
      "7 True\n",
      "8 False\n",
      "9 False\n",
      "10 False\n",
      "11 True\n",
      "12 False\n",
      "13 True\n",
      "14 False\n",
      "15 False\n",
      "16 False\n",
      "17 True\n",
      "18 False\n",
      "19 True\n",
      "20 False\n",
      "21 False\n",
      "22 False\n",
      "23 True\n",
      "24 False\n",
      "25 False\n",
      "26 False\n",
      "27 False\n",
      "28 False\n",
      "29 True\n",
      "30 False\n",
      "31 True\n",
      "32 False\n",
      "33 False\n",
      "34 False\n",
      "35 False\n",
      "36 False\n",
      "37 True\n",
      "38 False\n",
      "39 False\n",
      "40 False\n",
      "41 True\n",
      "42 False\n",
      "43 True\n",
      "44 False\n",
      "45 False\n",
      "46 False\n",
      "47 True\n",
      "48 False\n",
      "49 False\n",
      "50 False\n",
      "51 False\n",
      "52 False\n",
      "53 True\n",
      "54 False\n",
      "55 False\n",
      "56 False\n",
      "57 False\n",
      "58 False\n",
      "59 True\n",
      "60 False\n",
      "61 True\n",
      "62 False\n",
      "63 False\n",
      "64 False\n",
      "65 False\n",
      "66 False\n",
      "67 True\n",
      "68 False\n",
      "69 False\n",
      "70 False\n",
      "71 True\n",
      "72 False\n",
      "73 True\n",
      "74 False\n",
      "75 False\n",
      "76 False\n",
      "77 False\n",
      "78 False\n",
      "79 True\n",
      "80 False\n",
      "81 False\n",
      "82 False\n",
      "83 True\n",
      "84 False\n",
      "85 False\n",
      "86 False\n",
      "87 False\n",
      "88 False\n",
      "89 True\n",
      "90 False\n",
      "91 False\n",
      "92 False\n",
      "93 False\n",
      "94 False\n",
      "95 False\n",
      "96 False\n",
      "97 True\n",
      "98 False\n",
      "99 False\n"
     ]
    }
   ],
   "source": [
    "def is_prime(n):\n",
    "    fc = 0 # to hold the factor count\n",
    "    for i in range(1, n + 1):\n",
    "        if n % i == 0:\n",
    "            fc += 1 # incremeting factor count upon finding a factor\n",
    "    if fc == 2:\n",
    "        return True\n",
    "    else:\n",
    "        return False\n",
    "\n",
    "for i in range(1, 100):\n",
    "    print(i, is_prime(i))"
   ]
  },
  {
   "cell_type": "markdown",
   "id": "2cf31466-f24f-4071-ad05-feafb5960f0e",
   "metadata": {},
   "source": [
    "# Primes in a range"
   ]
  },
  {
   "cell_type": "code",
   "execution_count": 19,
   "id": "e700bb75-2168-48c7-ab90-5b875957b8f1",
   "metadata": {},
   "outputs": [
    {
     "name": "stdin",
     "output_type": "stream",
     "text": [
      " 1000 2000\n"
     ]
    },
    {
     "name": "stdout",
     "output_type": "stream",
     "text": [
      "1009 1013 1019 1021 1031 1033 1039 1049 1051 1061 1063 1069 1087 1091 1093 1097 1103 1109 1117 1123 1129 1151 1153 1163 1171 1181 1187 1193 1201 1213 1217 1223 1229 1231 1237 1249 1259 1277 1279 1283 1289 1291 1297 1301 1303 1307 1319 1321 1327 1361 1367 1373 1381 1399 1409 1423 1427 1429 1433 1439 1447 1451 1453 1459 1471 1481 1483 1487 1489 1493 1499 1511 1523 1531 1543 1549 1553 1559 1567 1571 1579 1583 1597 1601 1607 1609 1613 1619 1621 1627 1637 1657 1663 1667 1669 1693 1697 1699 1709 1721 1723 1733 1741 1747 1753 1759 1777 1783 1787 1789 1801 1811 1823 1831 1847 1861 1867 1871 1873 1877 1879 1889 1901 1907 1913 1931 1933 1949 1951 1973 1979 1987 1993 1997 1999 "
     ]
    }
   ],
   "source": [
    "def is_prime(n):\n",
    "    fc = 0 # to hold the factor count\n",
    "    for i in range(1, n + 1):\n",
    "        if n % i == 0:\n",
    "            fc += 1 # incremeting factor count upon finding a factor\n",
    "    if fc == 2:\n",
    "        return True\n",
    "    else:\n",
    "        return False\n",
    "        \n",
    "start, stop = map(int, input().split())\n",
    "for i in range(start, stop + 1):\n",
    "    if is_prime(i):\n",
    "        print(i, end = ' ')"
   ]
  },
  {
   "cell_type": "markdown",
   "id": "0da2cc0e-95f8-48ef-b1f9-e5c256290d90",
   "metadata": {},
   "source": [
    "# Task 1\n",
    "- You will be given two numbers start and end\n",
    "- You need to find out the absolute different b/w the number of primes and composites in that range\n",
    "- start: 10\n",
    "- end: 20\n",
    "- primes: 11, 13, 17, 19 --> 4\n",
    "- composites: 10, 12, 14, 15, 16, 18, 20 --> 7\n",
    "- difference b/w 7 and 4 --> 3"
   ]
  },
  {
   "cell_type": "code",
   "execution_count": 21,
   "id": "6cf52a89-64d0-4435-9d78-926ba58eb27a",
   "metadata": {},
   "outputs": [
    {
     "name": "stdin",
     "output_type": "stream",
     "text": [
      " 10 20\n"
     ]
    },
    {
     "name": "stdout",
     "output_type": "stream",
     "text": [
      "3\n"
     ]
    }
   ],
   "source": [
    "def is_prime(n):\n",
    "    fc = 0 # to hold the factor count\n",
    "    for i in range(1, n + 1):\n",
    "        if n % i == 0:\n",
    "            fc += 1 # incremeting factor count upon finding a factor\n",
    "    if fc == 2:\n",
    "        return True\n",
    "    else:\n",
    "        return False\n",
    "        \n",
    "start, stop = map(int, input().split())\n",
    "primes = composites = 0\n",
    "for i in range(start, stop + 1):\n",
    "    if is_prime(i):\n",
    "        primes += 1 # incrementing prime count\n",
    "    else:\n",
    "        composites += 1\n",
    "print(abs(primes - composites))"
   ]
  },
  {
   "cell_type": "code",
   "execution_count": null,
   "id": "8a3838ac-58e7-46c5-b53f-4be6025c83eb",
   "metadata": {},
   "outputs": [],
   "source": [
    "def is_prime(n):\n",
    "    fc = 0 # to hold the factor count\n",
    "    for i in range(1, n + 1):\n",
    "        if n % i == 0:\n",
    "            fc += 1 # incremeting factor count upon finding a factor\n",
    "    if fc == 2:\n",
    "        return True\n",
    "    else:\n",
    "        return False\n",
    "        \n",
    "start, stop = map(int, input().split())\n",
    "primes = composites = 0\n",
    "for i in range(start, stop + 1):\n",
    "    if is_prime(i):\n",
    "        primes += 1 # incrementing prime count\n",
    "    else:\n",
    "        composites += 1\n",
    "print(abs(primes - composites))"
   ]
  },
  {
   "cell_type": "code",
   "execution_count": 22,
   "id": "0ab369c3-af72-45b2-aec6-bbeef7b6a852",
   "metadata": {},
   "outputs": [
    {
     "name": "stdin",
     "output_type": "stream",
     "text": [
      " 10 20\n"
     ]
    },
    {
     "name": "stdout",
     "output_type": "stream",
     "text": [
      "3\n"
     ]
    }
   ],
   "source": [
    "def is_prime(n):\n",
    "    fc = 0 # to hold the factor count\n",
    "    for i in range(1, n + 1):\n",
    "        if n % i == 0:\n",
    "            fc += 1 # incremeting factor count upon finding a factor\n",
    "    if fc == 2:\n",
    "        return True\n",
    "    else:\n",
    "        return False\n",
    "        \n",
    "start, stop = map(int, input().split())\n",
    "total_numbers = stop - start + 1\n",
    "primes = 0\n",
    "for i in range(start, stop + 1):\n",
    "    if is_prime(i):\n",
    "        primes += 1 # incrementing prime count\n",
    "composites = total_numbers - primes\n",
    "print(abs(primes - composites))"
   ]
  },
  {
   "cell_type": "code",
   "execution_count": null,
   "id": "b7e03878-e309-455a-8e82-51064a3f9263",
   "metadata": {},
   "outputs": [],
   "source": []
  },
  {
   "cell_type": "markdown",
   "id": "c58deaed-d860-4ebd-9560-db82da8c8a33",
   "metadata": {},
   "source": [
    "# LCM & GCD\n",
    "- LCM -> Least Common Multiple\n",
    "|num|mutilples|\n",
    "|-|-|\n",
    "|12|12, 24, 36, 48, ...|\n",
    "|18|18, 36, 54, 72, ...|\n",
    "|common multiples|36, 72, 108, 144|\n",
    "|Least one|36|\n",
    "\n",
    "-- LCM of (7, 5)\n",
    "|num|mutilples|\n",
    "|-|-|\n",
    "|7|7, 14, 21, 28, 35, 42, 49, 56, 63, 70, ...|\n",
    "|5|5, 10, 15, 20, 25, 30, 35, 40, 45, 50, 55, 60, 65, 70, ..|\n",
    "|common multiples|35, 70, 105, 140, .....|\n",
    "|Least one|35|"
   ]
  },
  {
   "cell_type": "code",
   "execution_count": 25,
   "id": "2c16c9f9-544e-4ffa-ab49-554cf3e088a1",
   "metadata": {},
   "outputs": [
    {
     "name": "stdin",
     "output_type": "stream",
     "text": [
      " 12 18\n"
     ]
    },
    {
     "name": "stdout",
     "output_type": "stream",
     "text": [
      "LCM of 12 and 18 is: 36\n"
     ]
    }
   ],
   "source": [
    "a, b = map(int, input().split())\n",
    "i = 1\n",
    "# Generating mulitples of a\n",
    "while True:\n",
    "    m = a * i # the multiple of a\n",
    "    if m % b == 0:\n",
    "        print(f'LCM of {a} and {b} is: {m}')\n",
    "        break\n",
    "    i += 1"
   ]
  },
  {
   "cell_type": "markdown",
   "id": "a1b71c3e-098f-4b93-aa93-63b1f9f7d53a",
   "metadata": {},
   "source": [
    "# GCD of Two numbers\n",
    "- GCD/HCF -> Greatest Common Divisor / Highest Common Factor\n",
    "|num|factors|\n",
    "|-|-|\n",
    "|12|1, 2, 3, 4, 6, 12|\n",
    "|18|1, 2, 3, 6, 9, 18|\n",
    "|common multiples|1, 2, 3, 6|\n",
    "|Highest one|6|\n",
    "- GCD of 5 and 7?"
   ]
  },
  {
   "cell_type": "code",
   "execution_count": 29,
   "id": "182ec615-75a6-4926-b0d5-feda266319c5",
   "metadata": {},
   "outputs": [
    {
     "name": "stdin",
     "output_type": "stream",
     "text": [
      " 12 18\n"
     ]
    },
    {
     "name": "stdout",
     "output_type": "stream",
     "text": [
      "GCD of 12 and 18 is 6\n"
     ]
    }
   ],
   "source": [
    "a, b = map(int, input().split())\n",
    "# Try to find factors of either a or b\n",
    "for i in range(1, a + 1):\n",
    "    if a % i == 0 and b % i == 0:\n",
    "        common_divisor = i\n",
    "print(f'GCD of {a} and {b} is {common_divisor}')"
   ]
  },
  {
   "cell_type": "markdown",
   "id": "1909e7d8-cdb5-4412-90d6-9ec759291ffe",
   "metadata": {},
   "source": [
    "# Relationship b/w GCD and LCM of two numbers\n",
    "- The product of two numbers a and b can also be represented as the product of their GCD(a, b) and LCM(a, b)\n",
    "- $$ a \\times b = GCD(a, b) \\times LCM(a, b) $$\n",
    "|a|b|axb|gcd(a, b)|lcm(a, b)|product of gcd and lcm|\n",
    "|-|-|-|-|-|-|\n",
    "|12|18|216|6|36|216|\n",
    "|7|5|35|1|35|35|\n",
    "- For GCD through LCM\n",
    "- $$ GCD(a, b) = \\frac{a \\times b}{LCM(a, b)}$$\n",
    "- For LCM through GCD\n",
    "- $$ LCM(a, b) = \\frac{a \\times b}{GCD(a, b)}$$"
   ]
  },
  {
   "cell_type": "markdown",
   "id": "a8af3e4b-ee35-46b9-a3b2-e3d9a5c4c37e",
   "metadata": {},
   "source": [
    "# LCM through GCD"
   ]
  },
  {
   "cell_type": "code",
   "execution_count": 33,
   "id": "34c572a8-6272-4fb6-8242-4e4a50a03133",
   "metadata": {},
   "outputs": [
    {
     "name": "stdin",
     "output_type": "stream",
     "text": [
      " 5 7\n"
     ]
    },
    {
     "name": "stdout",
     "output_type": "stream",
     "text": [
      "GCD is: 1\n",
      "LCM is: 35\n"
     ]
    }
   ],
   "source": [
    "def get_gcd(a, b):\n",
    "    for i in range(1, a + 1):\n",
    "        if a % i == 0 and b % i == 0:\n",
    "            common_divisor = i\n",
    "    return common_divisor\n",
    "\n",
    "a, b = map(int, input().split())\n",
    "gcd = get_gcd(a, b)\n",
    "lcm = (a * b) // gcd # proudct / gcd = LCM\n",
    "print(f'GCD is: {gcd}')\n",
    "print(f'LCM is: {lcm}')"
   ]
  },
  {
   "cell_type": "markdown",
   "id": "ae4470ee-2fca-4979-b4f7-19b3fac47eab",
   "metadata": {},
   "source": [
    "# GCD through LCM"
   ]
  },
  {
   "cell_type": "code",
   "execution_count": null,
   "id": "5cea652d-7cc4-4bf0-b2da-cf6b0a65b7b1",
   "metadata": {},
   "outputs": [],
   "source": []
  },
  {
   "cell_type": "markdown",
   "id": "a5466ef1-637c-4de5-a575-79fcf86c5265",
   "metadata": {},
   "source": [
    "# Digit Related Programs"
   ]
  },
  {
   "cell_type": "code",
   "execution_count": null,
   "id": "b8eef7e5-dee6-4b0c-a32c-4362d05b0734",
   "metadata": {},
   "outputs": [],
   "source": []
  },
  {
   "cell_type": "code",
   "execution_count": null,
   "id": "10b8e340-7702-4066-b54a-04c4510c87c7",
   "metadata": {},
   "outputs": [],
   "source": []
  },
  {
   "cell_type": "code",
   "execution_count": null,
   "id": "2e58fa45-5588-4a05-af91-360bfe1b242f",
   "metadata": {},
   "outputs": [],
   "source": []
  },
  {
   "cell_type": "code",
   "execution_count": null,
   "id": "6b047130-e1a5-4c15-889c-343ebd25b63b",
   "metadata": {},
   "outputs": [],
   "source": []
  },
  {
   "cell_type": "code",
   "execution_count": null,
   "id": "ce273517-a945-4593-bf8d-166542bfb4a9",
   "metadata": {},
   "outputs": [],
   "source": []
  },
  {
   "cell_type": "code",
   "execution_count": null,
   "id": "358063ce-5a80-4d91-a414-3010ec35ef97",
   "metadata": {},
   "outputs": [],
   "source": []
  }
 ],
 "metadata": {
  "kernelspec": {
   "display_name": "Python 3 (ipykernel)",
   "language": "python",
   "name": "python3"
  },
  "language_info": {
   "codemirror_mode": {
    "name": "ipython",
    "version": 3
   },
   "file_extension": ".py",
   "mimetype": "text/x-python",
   "name": "python",
   "nbconvert_exporter": "python",
   "pygments_lexer": "ipython3",
   "version": "3.12.4"
  }
 },
 "nbformat": 4,
 "nbformat_minor": 5
}

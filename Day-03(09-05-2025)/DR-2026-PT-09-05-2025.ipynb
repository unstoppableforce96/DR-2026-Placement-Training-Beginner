{
 "cells": [
  {
   "cell_type": "markdown",
   "id": "eb24793d-03f0-43f2-9514-d9dcd5a5c67e",
   "metadata": {},
   "source": [
    "# Dealing with digits of a number\n",
    "- 123456\n",
    "- Find the count of digits in given number\n",
    "- Find the sum of digits in the given number\n",
    "- Find the product of the digits in the given number\n",
    "- Reverse the given number\n",
    "- Find the sum of squaures of digits of given number\n",
    "- Find the count of even odd digits separately"
   ]
  },
  {
   "cell_type": "markdown",
   "id": "0ea81cab-cec1-4f3d-aeec-da42a2d35c99",
   "metadata": {},
   "source": [
    "# Printing digits of the given number"
   ]
  },
  {
   "cell_type": "code",
   "execution_count": 9,
   "id": "f5b77313-3b0c-4aa0-a33a-660d1f092b11",
   "metadata": {},
   "outputs": [
    {
     "name": "stdin",
     "output_type": "stream",
     "text": [
      "Enter a number:  123456\n"
     ]
    },
    {
     "name": "stdout",
     "output_type": "stream",
     "text": [
      "6 5 4 3 2 1 "
     ]
    }
   ],
   "source": [
    "n = int(input(\"Enter a number: \"))\n",
    "while n > 0: \n",
    "    r = n % 10 \n",
    "    print(r, end = ' ') \n",
    "    n = n // 10"
   ]
  },
  {
   "cell_type": "markdown",
   "id": "f7bd0e4a-9712-4cb2-a286-e0d1e7693c15",
   "metadata": {},
   "source": [
    "# Find the number of digits in the given number (Digit Count)"
   ]
  },
  {
   "cell_type": "code",
   "execution_count": 12,
   "id": "3c0bfbb9-406a-4b41-9066-dd1dfff7ede8",
   "metadata": {},
   "outputs": [
    {
     "name": "stdin",
     "output_type": "stream",
     "text": [
      "Enter a number:  123456\n"
     ]
    },
    {
     "name": "stdout",
     "output_type": "stream",
     "text": [
      "6\n"
     ]
    }
   ],
   "source": [
    "n = int(input(\"Enter a number: \"))\n",
    "digit_count = 0\n",
    "while n > 0: \n",
    "    digit_count += 1\n",
    "    n = n // 10 \n",
    "print(digit_count)"
   ]
  },
  {
   "cell_type": "markdown",
   "id": "91444987-1d35-4193-8c39-9069392b6333",
   "metadata": {},
   "source": [
    "# Find the sum and product of digits of a given number"
   ]
  },
  {
   "cell_type": "code",
   "execution_count": 13,
   "id": "8844df0d-00bc-4701-9027-3331522d8b08",
   "metadata": {},
   "outputs": [
    {
     "name": "stdin",
     "output_type": "stream",
     "text": [
      "Enter a number:  1234\n"
     ]
    },
    {
     "name": "stdout",
     "output_type": "stream",
     "text": [
      "Sum is: 10\n",
      "Product is: 24\n"
     ]
    }
   ],
   "source": [
    "n = int(input(\"Enter a number: \"))\n",
    "s = 0 \n",
    "p = 1\n",
    "while n > 0: \n",
    "    r = n % 10\n",
    "    s += r\n",
    "    p *= r\n",
    "    n = n // 10 \n",
    "print(f'Sum is: {s}')\n",
    "print(f'Product is: {p}')"
   ]
  },
  {
   "cell_type": "markdown",
   "id": "8cb23b55-f66e-4505-bbce-038ba54fa734",
   "metadata": {},
   "source": [
    "# Problem 1\n",
    "- [Subtract Product and Sum of digits of a number](https://leetcode.com/problems/subtract-the-product-and-sum-of-digits-of-an-integer/)\n",
    "\n",
    "```java\n",
    "class Solution {\n",
    "    public int subtractProductAndSum(int n) {\n",
    "        int sum = 0;\n",
    "        int product = 1;\n",
    "        // Digits \n",
    "        while (n > 0) {\n",
    "            int r = n % 10; // last digit of n\n",
    "            sum = sum + r; // sum += r;\n",
    "            product = product * r;\n",
    "            n = n / 10;\n",
    "        }\n",
    "        return product - sum;\n",
    "    }\n",
    "}\n",
    "```\n",
    "\n",
    "```python\n",
    "class Solution:\n",
    "    def subtractProductAndSum(self, n: int) -> int:\n",
    "        s = 0\n",
    "        p = 1\n",
    "        while n > 0:\n",
    "            r = n % 10 # last digit\n",
    "            s += r # sum = sum + r\n",
    "            p *= r # p = p * r\n",
    "            n = n // 10\n",
    "        return p - s\n",
    "```"
   ]
  },
  {
   "cell_type": "markdown",
   "id": "183a0635-2585-405b-8be0-da3a66e18c47",
   "metadata": {},
   "source": [
    "# Finding Even Odd digit count seperately in the given number"
   ]
  },
  {
   "cell_type": "code",
   "execution_count": 40,
   "id": "742d3b44-89a5-482f-b4c6-99e2b33ac1a0",
   "metadata": {},
   "outputs": [
    {
     "name": "stdin",
     "output_type": "stream",
     "text": [
      "Enter a number:  123456\n"
     ]
    },
    {
     "name": "stdout",
     "output_type": "stream",
     "text": [
      "Number of even digits: 3\n",
      "Number of odd digits: 3\n"
     ]
    }
   ],
   "source": [
    "n = int(input('Enter a number: '))\n",
    "even_digit_count = odd_digit_count = 0\n",
    "while n > 0:\n",
    "    r = n % 10\n",
    "    if r % 2 == 0:\n",
    "        even_digit_count += 1\n",
    "    else:\n",
    "        odd_digit_count += 1\n",
    "    n = n // 10\n",
    "print(f'Number of even digits: {even_digit_count}')\n",
    "print(f'Number of odd digits: {odd_digit_count}')"
   ]
  },
  {
   "cell_type": "markdown",
   "id": "a1c864f6-bed3-4ce8-8496-df85b87ba593",
   "metadata": {},
   "source": [
    "# Add Digits\n",
    "[Add Digits](https://leetcode.com/problems/add-digits/)\n",
    "\n",
    "- Java Version\n",
    "\n",
    "```java\n",
    "class Solution {\r\n",
    "    public int getDigitSum(int n) {\r\n",
    "        int sum = 0;\r\n",
    "        while (n > 0) {\r\n",
    "            sum += n % 10;\r\n",
    "            n = n / 10;\r\n",
    "        }\r\n",
    "        return sum;\r\n",
    "    }\r\n",
    "    public int addDigits(int num) {\r\n",
    "        while (num > 9) {\r\n",
    "            num = getDigitSum(num);\r\n",
    "        }\r\n",
    "        return num;\r\n",
    "    }\r\n",
    "}\n",
    "```\n",
    "- Python Version 1\n",
    "\n",
    "```python\n",
    "class Solution:\n",
    "    def addDigits(self, num: int) -> int:\n",
    "        s = 0\n",
    "        while num > 0: \n",
    "            r = num % 10\n",
    "            s += r # s = 11\n",
    "            num = num // 10 # n = 11\n",
    "            if num == 0 and s >= 10:\n",
    "                num = s\n",
    "                s = 0\n",
    "        return s\n",
    "```\n",
    "- Python Version 2\n",
    "\n",
    "```python\n",
    "class Solution:\n",
    "    def addDigits(self, num: int) -> int:\n",
    "        if num % 9 == 0 and num != 0:\n",
    "            return 9\n",
    "        return num % 9\n",
    "```"
   ]
  },
  {
   "cell_type": "markdown",
   "id": "974d0df4-aab2-4016-83cd-683e1b3a3771",
   "metadata": {},
   "source": [
    "# Add digits repeatedly"
   ]
  },
  {
   "cell_type": "code",
   "execution_count": 15,
   "id": "e7e92e18-87b1-44b4-9421-3a0b30447461",
   "metadata": {},
   "outputs": [
    {
     "name": "stdout",
     "output_type": "stream",
     "text": [
      "2\n"
     ]
    }
   ],
   "source": [
    "def add_digits(n):\n",
    "    s = 0\n",
    "    while n > 0: \n",
    "        r = n % 10\n",
    "        s += r\n",
    "        n = n // 10 \n",
    "    return s\n",
    "    \n",
    "n = 38\n",
    "while n > 10:\n",
    "    n = add_digits(n)\n",
    "print(n)"
   ]
  },
  {
   "cell_type": "code",
   "execution_count": 16,
   "id": "7bcda4a4-61eb-4204-b279-58fdc1eb64a4",
   "metadata": {},
   "outputs": [
    {
     "name": "stdout",
     "output_type": "stream",
     "text": [
      "2\n"
     ]
    }
   ],
   "source": [
    "n = 38\n",
    "s = 0\n",
    "while n > 0: \n",
    "    r = n % 10\n",
    "    s += r # s = 11\n",
    "    n = n // 10 # n = 11\n",
    "    if n == 0 and s >= 10:\n",
    "        n = s\n",
    "        s = 0\n",
    "print(s)"
   ]
  },
  {
   "cell_type": "markdown",
   "id": "c46e9a7f-bde6-46f3-a15f-b9ea71f5b918",
   "metadata": {},
   "source": [
    "# Reversing a number"
   ]
  },
  {
   "cell_type": "code",
   "execution_count": 26,
   "id": "6b147b07-5abe-4920-8064-558f01f6746b",
   "metadata": {},
   "outputs": [
    {
     "name": "stdin",
     "output_type": "stream",
     "text": [
      "Enter a number:  123\n"
     ]
    },
    {
     "name": "stdout",
     "output_type": "stream",
     "text": [
      "321\n"
     ]
    }
   ],
   "source": [
    "n = int(input('Enter a number: '))\n",
    "rev = 0\n",
    "while n > 0:\n",
    "    r = n % 10\n",
    "    rev = rev * 10 + r\n",
    "    n = n // 10\n",
    "print(rev)"
   ]
  },
  {
   "cell_type": "markdown",
   "id": "3fca47fb-d17a-47c4-8734-4c1a92870a67",
   "metadata": {},
   "source": [
    "# Checking if the given number is a palindrome\n",
    "- 123 is not a palindrome, because reverse  of 123 is 321 which is not equal to 123\n",
    "- 242 is a palindrome, because reverse of 242 is also 242"
   ]
  },
  {
   "cell_type": "code",
   "execution_count": 25,
   "id": "c9fd96a2-5e55-44d9-9701-64414995a707",
   "metadata": {},
   "outputs": [
    {
     "name": "stdin",
     "output_type": "stream",
     "text": [
      "Enter a number:  121\n"
     ]
    },
    {
     "name": "stdout",
     "output_type": "stream",
     "text": [
      "121 is a palindrome\n"
     ]
    }
   ],
   "source": [
    "n = int(input('Enter a number: '))\n",
    "rev = 0\n",
    "t = n\n",
    "while n > 0:\n",
    "    r = n % 10\n",
    "    rev = rev * 10 + r\n",
    "    n = n // 10\n",
    "if rev == t:\n",
    "    print(f'{t} is a palindrome')\n",
    "else:\n",
    "    print(f'{t} is not a palindrome')"
   ]
  },
  {
   "cell_type": "markdown",
   "id": "bc2f63b8-ba6d-4c63-b144-0f9b46be12d1",
   "metadata": {},
   "source": [
    "# A Number after double reverse\n",
    "[A Number after double reverse](https://leetcode.com/problems/a-number-after-a-double-reversal/description/)\n",
    "\n",
    "- Java Version\n",
    "```java\n",
    "class Solution {\n",
    "    public int getReverse(int n) {\n",
    "        int rev = 0;\n",
    "        while (n > 0) {\n",
    "            int r = n % 10;\n",
    "            rev = rev * 10 + r;\n",
    "            n = n / 10;\n",
    "        }\n",
    "        return rev;\n",
    "    }\n",
    "    public boolean isSameAfterReversals(int num) {\n",
    "        int rev1 = getReverse(num);\n",
    "        int rev2 = getReverse(rev1);\n",
    "        return rev2 == num;\n",
    "    }\n",
    "}\n",
    "```\n",
    "\n",
    "- Python Version\n",
    "\n",
    "```python\n",
    "class Solution:\r\n",
    "    def get_reverse(n):\r\n",
    "        rev = 0\r\n",
    "        while n > 0:\r\n",
    "            rev = rev * 10 + (n % 10)\r\n",
    "            n = n // 10\r\n",
    "        return rev\r\n",
    "    def isSameAfterReversals(self, num: int) -> bool:\r\n",
    "       rev1 = Solution.get_reverse(num)\r\n",
    "       rev2 = Solution.get_reverse(rev1)\r\n",
    "       return rev2 == num\n",
    "```"
   ]
  },
  {
   "cell_type": "markdown",
   "id": "c6814b52-ec84-46f7-9b8c-5c7685b790a5",
   "metadata": {},
   "source": [
    "# Happy Number"
   ]
  },
  {
   "cell_type": "code",
   "execution_count": null,
   "id": "3b2ccc4f-2351-43e3-b202-6e6a9e425ef6",
   "metadata": {},
   "outputs": [],
   "source": [
    "def get_square_sum(n):\n",
    "    sq_sum = 0\n",
    "    while n > 0:\n",
    "        r = n % 10\n",
    "        sq_sum += r * r # square sum of digit\n",
    "        n = n // 10\n",
    "    return sq_sum\n",
    "\n",
    "n = 2\n",
    "# Finding square sum repeatedly until we hit a single digit\n",
    "while n > 9:\n",
    "    n = get_square_sum(n)\n",
    "if n == 1 or n == 7:\n",
    "    print('Happy')\n",
    "else:\n",
    "    print('Not Happy')"
   ]
  },
  {
   "cell_type": "markdown",
   "id": "644944ef-a4ce-499f-b2af-9a5e14c8f08d",
   "metadata": {},
   "source": [
    "# Happy Number\n",
    "[Happy Number](https://leetcode.com/problems/happy-number/description/)\n",
    "\n",
    "- Java Version\n",
    "```java\n",
    "class Solution {\n",
    "    public int getSquareSum(int n) {\n",
    "        int sqSum = 0;\n",
    "        while (n > 0) {\n",
    "            int r = n % 10;\n",
    "            sqSum += r * r;\n",
    "            n = n / 10;\n",
    "        }\n",
    "        return sqSum;\n",
    "    }\n",
    "    public boolean isHappy(int n) {\n",
    "        while (n > 9) // until single digit\n",
    "        {\n",
    "            n = getSquareSum(n);\n",
    "        }\n",
    "        return (n == 1 || n == 7);\n",
    "    }\n",
    "}\n",
    "```\n",
    "\n",
    "- Python Version\n",
    "```python\n",
    "class Solution:\n",
    "    def get_square_sum(n: int) -> int:\n",
    "        sq_sum = 0\n",
    "        while n > 0:\n",
    "            r = n % 10\n",
    "            sq_sum += r * r\n",
    "            n = n // 10\n",
    "        return sq_sum\n",
    "\n",
    "    def isHappy(self, n: int) -> bool:\n",
    "        while n > 9:\n",
    "            n = Solution.get_square_sum(n)\n",
    "        return n == 1 or n == 7\n",
    "```"
   ]
  }
 ],
 "metadata": {
  "kernelspec": {
   "display_name": "Python 3 (ipykernel)",
   "language": "python",
   "name": "python3"
  },
  "language_info": {
   "codemirror_mode": {
    "name": "ipython",
    "version": 3
   },
   "file_extension": ".py",
   "mimetype": "text/x-python",
   "name": "python",
   "nbconvert_exporter": "python",
   "pygments_lexer": "ipython3",
   "version": "3.12.4"
  }
 },
 "nbformat": 4,
 "nbformat_minor": 5
}

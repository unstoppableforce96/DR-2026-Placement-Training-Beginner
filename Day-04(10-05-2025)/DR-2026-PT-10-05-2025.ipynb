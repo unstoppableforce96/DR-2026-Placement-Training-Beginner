{
 "cells": [
  {
   "cell_type": "markdown",
   "id": "48098323-0294-496b-871d-a61a74dffd4f",
   "metadata": {},
   "source": [
    "# Finding Factors of a number Optimally\n",
    "- To find the factors of a given number **N**, its' enough to generate all the numbers from\n",
    "- $$ 1 -to-  \\sqrt(N) $$\n",
    "- Factors 50\n",
    "- It's enough to generate all the numbers from 1 to $\\sqrt(50) = 7.1 = 8$"
   ]
  },
  {
   "cell_type": "markdown",
   "id": "26719742-8979-4eff-9294-c3c3ed82ae9a",
   "metadata": {},
   "source": [
    "# Brute Force Version to Find the factors\n",
    "- Generating numbers from 1 to N"
   ]
  },
  {
   "cell_type": "code",
   "execution_count": 22,
   "id": "bef5f734-1b14-436f-a903-2b179ed2c032",
   "metadata": {},
   "outputs": [
    {
     "name": "stdin",
     "output_type": "stream",
     "text": [
      "Enter a number:  1000\n"
     ]
    },
    {
     "name": "stdout",
     "output_type": "stream",
     "text": [
      "1 2 4 5 8 10 20 25 40 50 100 125 200 250 500 1000 "
     ]
    }
   ],
   "source": [
    "n = int(input('Enter a number: '))\n",
    "for i in range(1, n + 1):\n",
    "    if n % i == 0:\n",
    "        print(i, end = ' ')"
   ]
  },
  {
   "cell_type": "markdown",
   "id": "eeed3153-aaf0-4fc8-85c9-a8b4300bec15",
   "metadata": {},
   "source": [
    "# Optimized Version for Fiding Factors\n",
    "- Generating numbers from 1 to $\\sqrt(N)$"
   ]
  },
  {
   "cell_type": "code",
   "execution_count": 17,
   "id": "a8c211e6-81e9-4f08-b455-d2678d35ba31",
   "metadata": {},
   "outputs": [
    {
     "name": "stdin",
     "output_type": "stream",
     "text": [
      "Enter a number:  100\n"
     ]
    },
    {
     "name": "stdout",
     "output_type": "stream",
     "text": [
      "1 100\n",
      "2 50\n",
      "4 25\n",
      "5 20\n",
      "10 10\n"
     ]
    }
   ],
   "source": [
    "import math\n",
    "n = int(input('Enter a number: '))\n",
    "for i in range(1, int(math.sqrt(n)) + 1):\n",
    "    if n % i == 0:\n",
    "        print(i, n // i) # Finding 2 factors at once"
   ]
  },
  {
   "cell_type": "code",
   "execution_count": 20,
   "id": "06db5c08-f398-41b4-a688-f423a7f97187",
   "metadata": {},
   "outputs": [
    {
     "name": "stdin",
     "output_type": "stream",
     "text": [
      "Enter a number:  100\n"
     ]
    },
    {
     "name": "stdout",
     "output_type": "stream",
     "text": [
      "9\n"
     ]
    }
   ],
   "source": [
    "import math\n",
    "n = int(input('Enter a number: '))\n",
    "factor_count = 0\n",
    "for i in range(1, int(math.sqrt(n)) + 1):\n",
    "    if n % i == 0:\n",
    "        if i == n // i:\n",
    "            factor_count += 1\n",
    "        else:\n",
    "            factor_count += 2\n",
    "print(factor_count)"
   ]
  },
  {
   "cell_type": "code",
   "execution_count": 21,
   "id": "7fb6fe8c-e8c7-4387-870b-e2527d53146a",
   "metadata": {},
   "outputs": [
    {
     "name": "stdin",
     "output_type": "stream",
     "text": [
      "Enter a number:  100\n"
     ]
    },
    {
     "name": "stdout",
     "output_type": "stream",
     "text": [
      "9\n"
     ]
    }
   ],
   "source": [
    "n = int(input('Enter a number: '))\n",
    "factor_count = 0\n",
    "for i in range(1, n + 1):\n",
    "    if n % i == 0:\n",
    "        factor_count += 1\n",
    "print(factor_count)"
   ]
  },
  {
   "cell_type": "markdown",
   "id": "f541bbad-44cd-490a-842d-4839c19300f8",
   "metadata": {},
   "source": [
    "# Optimized Logic For Prime Check\n",
    "- Using $\\sqrt(N)$ technique\n",
    "- Any Prime number doesn't contain any factor from 2 to $\\sqrt(N)$\n",
    "- Composite Numbers will have at least one factor from 2 to $\\sqrt(N)$"
   ]
  },
  {
   "cell_type": "code",
   "execution_count": 24,
   "id": "9e7c047b-9613-4169-a68d-b2e94220b0c0",
   "metadata": {},
   "outputs": [
    {
     "name": "stdout",
     "output_type": "stream",
     "text": [
      "False\n",
      "True\n"
     ]
    }
   ],
   "source": [
    "from math import sqrt\n",
    "def is_prime(n):\n",
    "    if n < 2: \n",
    "        return False\n",
    "    # We will check if we can find at least one factor from 2 to sqrt(N)\n",
    "    for i in range(2, int(sqrt(n)) + 1):\n",
    "        if n % i == 0:\n",
    "            return False\n",
    "    return True\n",
    "print(is_prime(10))\n",
    "print(is_prime(17))"
   ]
  },
  {
   "cell_type": "markdown",
   "id": "2cec3564-8e68-4678-8902-7d7b2a8a6220",
   "metadata": {},
   "source": [
    "# Arrays / List\n",
    "- nums = [10, 20, 30, 40]\n",
    "- Arrays/Lists are index\n",
    "- Indices help us get the value at a particular index\n",
    "- Index starts from 0\n",
    "- If array contains N elements indices range from 1 to N - 1\n",
    "- Indices on nums are 0, 1, 2, 3\n",
    "- 0 --> 10\n",
    "- 1 --> 20\n",
    "- 2 --> 30\n",
    "- 3 --> 40"
   ]
  },
  {
   "cell_type": "code",
   "execution_count": 25,
   "id": "1a6ea666-2d5e-41bf-bc8b-d5a699a7c5a2",
   "metadata": {},
   "outputs": [
    {
     "name": "stdout",
     "output_type": "stream",
     "text": [
      "20\n",
      "40\n"
     ]
    }
   ],
   "source": [
    "nums = [10, 20, 30, 40]\n",
    "print(nums[1]) # prints  20\n",
    "print(nums[3]) # prints 40"
   ]
  },
  {
   "cell_type": "code",
   "execution_count": 27,
   "id": "93bf6d47-2da7-4c36-bf6a-b89a9b3550a5",
   "metadata": {},
   "outputs": [
    {
     "name": "stdout",
     "output_type": "stream",
     "text": [
      "4\n",
      "2\n"
     ]
    }
   ],
   "source": [
    "nums = [10, 20, 30, 40]\n",
    "print(len(nums))\n",
    "names = [\"Hello\", \"all\"]\n",
    "print(len(names))"
   ]
  },
  {
   "cell_type": "markdown",
   "id": "befbd188-3785-487b-9a36-3e6e7fbe2f50",
   "metadata": {},
   "source": [
    "# Using a range based loop"
   ]
  },
  {
   "cell_type": "code",
   "execution_count": 31,
   "id": "ae60ff09-bc87-4cbd-8b37-867307cb3396",
   "metadata": {},
   "outputs": [
    {
     "name": "stdout",
     "output_type": "stream",
     "text": [
      "0 10\n",
      "1 20\n",
      "2 30\n",
      "3 40\n"
     ]
    }
   ],
   "source": [
    "nums = [10, 20, 30, 40]\n",
    "#       0   1   2   3\n",
    "for i in range(len(nums)): # 0 1 2 3\n",
    "    print(i, nums[i])\n",
    "    "
   ]
  },
  {
   "cell_type": "code",
   "execution_count": 32,
   "id": "3fb67cf6-6d95-4397-bcf9-db5750ebde6e",
   "metadata": {},
   "outputs": [
    {
     "name": "stdout",
     "output_type": "stream",
     "text": [
      "100\n",
      "400\n",
      "900\n",
      "1600\n"
     ]
    }
   ],
   "source": [
    "nums = [10, 20, 30, 40]\n",
    "#       0   1   2   3\n",
    "for i in range(len(nums)): # 0 1 2 3\n",
    "    print(nums[i] * nums[i])"
   ]
  },
  {
   "cell_type": "markdown",
   "id": "00c70a72-980e-4506-96c7-f6f124e1848d",
   "metadata": {},
   "source": [
    "# Looping on values (For-each loop equivaelnt in Java)"
   ]
  },
  {
   "cell_type": "code",
   "execution_count": 33,
   "id": "c7fa0559-2d2c-4b4e-8d65-fd074b9f6927",
   "metadata": {},
   "outputs": [
    {
     "name": "stdout",
     "output_type": "stream",
     "text": [
      "100\n",
      "400\n",
      "900\n",
      "1600\n"
     ]
    }
   ],
   "source": [
    "nums = [10, 20, 30, 40]\n",
    "for num in nums:\n",
    "    print(num * num)"
   ]
  },
  {
   "cell_type": "code",
   "execution_count": 34,
   "id": "01ae5b79-27b7-49d3-bab5-ba1dfbe82543",
   "metadata": {},
   "outputs": [
    {
     "name": "stdout",
     "output_type": "stream",
     "text": [
      "delhi\n",
      "mumbai\n",
      "kolkata\n"
     ]
    }
   ],
   "source": [
    "names = ['delhi', 'mumbai', 'kolkata']\n",
    "for _ in names:\n",
    "    print(_)"
   ]
  }
 ],
 "metadata": {
  "kernelspec": {
   "display_name": "Python 3 (ipykernel)",
   "language": "python",
   "name": "python3"
  },
  "language_info": {
   "codemirror_mode": {
    "name": "ipython",
    "version": 3
   },
   "file_extension": ".py",
   "mimetype": "text/x-python",
   "name": "python",
   "nbconvert_exporter": "python",
   "pygments_lexer": "ipython3",
   "version": "3.12.4"
  }
 },
 "nbformat": 4,
 "nbformat_minor": 5
}
